{
  "nbformat": 4,
  "nbformat_minor": 0,
  "metadata": {
    "colab": {
      "provenance": [],
      "toc_visible": true,
      "include_colab_link": true
    },
    "kernelspec": {
      "name": "python3",
      "display_name": "Python 3"
    },
    "language_info": {
      "name": "python"
    }
  },
  "cells": [
    {
      "cell_type": "markdown",
      "metadata": {
        "id": "view-in-github",
        "colab_type": "text"
      },
      "source": [
        "<a href=\"https://colab.research.google.com/github/Elsiekiprop/Sales-Prediction--Time-Series-Models/blob/development/Sales_prediction.ipynb\" target=\"_parent\"><img src=\"https://colab.research.google.com/assets/colab-badge.svg\" alt=\"Open In Colab\"/></a>"
      ]
    },
    {
      "cell_type": "markdown",
      "source": [
        "# Store Sales - Time Series Forecasting.\n",
        "## Overview\n",
        "This project aims to predict sales of various products at Favorita stores in Ecuador.\n",
        "## Business Understanding\n",
        "\n",
        "## Data Understanding.\n",
        "\n",
        "Seven data sets will be used in this project. The data sets are as follows:\n",
        "\n",
        "**Train.csv**\n",
        "This data set includes data on:\n",
        "- date: day the sale occured\n",
        "- id: the sales id\n",
        "- store_nbr: the store at which the sale occured\n",
        "- sales: total sales for a given product family at a given store at a given date.\n",
        "- onpromotion: total  number of items promoted at a given store at a given date.\n",
        "\n",
        "The  **test.csv** file contains data similar to the training data. The data contains sales information collected 15 days after the train data.\n",
        "\n",
        "\n",
        "**Oil.csv**\n",
        "\n",
        "This file contains details on oil prices since Ecuador's economy heavily depends on Oil\n",
        "\n",
        "\n",
        "**Stores.csv**\n",
        "\n",
        "This file includes information on store location:\n",
        "- city: the city a state is located\n",
        "- state: the state a city is located\n",
        "- cluster: a group of similar stores\n",
        "- type: the type of store\n",
        "\n",
        "\n"
      ],
      "metadata": {
        "id": "LLQpzFaoM8IC"
      }
    },
    {
      "cell_type": "markdown",
      "source": [],
      "metadata": {
        "id": "tJh-2osB6aLz"
      }
    },
    {
      "cell_type": "markdown",
      "source": [
        "# Importing necessary libraries.\n",
        "\n"
      ],
      "metadata": {
        "id": "4hbt_P-SQbck"
      }
    },
    {
      "cell_type": "code",
      "source": [
        "import pandas as pd\n",
        "import matplotlib.pyplot as plt\n",
        "%matplotlib inline\n",
        "import numpy as np\n",
        "import seaborn as sns"
      ],
      "metadata": {
        "id": "wCg1yM4_Ruop"
      },
      "execution_count": null,
      "outputs": []
    },
    {
      "cell_type": "code",
      "source": [
        "from google.colab import drive\n",
        "drive.mount('/content/drive')"
      ],
      "metadata": {
        "id": "0R8zuDGN_pO5",
        "colab": {
          "base_uri": "https://localhost:8080/"
        },
        "outputId": "80011532-eea9-467d-a7a6-29df2481ef1f"
      },
      "execution_count": null,
      "outputs": [
        {
          "output_type": "stream",
          "name": "stdout",
          "text": [
            "Drive already mounted at /content/drive; to attempt to forcibly remount, call drive.mount(\"/content/drive\", force_remount=True).\n"
          ]
        }
      ]
    },
    {
      "cell_type": "markdown",
      "source": [
        "# Common Functions"
      ],
      "metadata": {
        "id": "cfar32KOIv-g"
      }
    },
    {
      "cell_type": "markdown",
      "source": [
        "# Data Access and Collection"
      ],
      "metadata": {
        "id": "GssG4fm0JHvK"
      }
    },
    {
      "cell_type": "code",
      "source": [
        "path_var = '/content/drive/MyDrive/projects/Store-Sales-Forecast/store-sales-time-series-forecasting'"
      ],
      "metadata": {
        "id": "wRGTPxRHCunE"
      },
      "execution_count": null,
      "outputs": []
    },
    {
      "cell_type": "code",
      "source": [
        "#Reading data\n",
        "train_df=pd.read_csv(path_var + \"/train.csv\")\n",
        "test_df=pd.read_csv(path_var + \"/test.csv\")\n",
        "oil_df=pd.read_csv(path_var + \"/oil.csv\")\n",
        "sample_submission_df=pd.read_csv(path_var + \"/sample_submission.csv\")\n",
        "stores_df=pd.read_csv(path_var + \"/stores.csv\")\n",
        "transactions_df=pd.read_csv(path_var + \"/transactions.csv\")\n",
        "holidays_events_df=pd.read_csv(path_var + \"/holidays_events.csv\")"
      ],
      "metadata": {
        "id": "HVtmvlVcUHEA"
      },
      "execution_count": null,
      "outputs": []
    },
    {
      "cell_type": "markdown",
      "source": [
        "# Data Cleaning\n",
        "\n",
        "\n",
        "*   Check on how to clean TimeSeries data\n",
        "*   Filling in values for TimeSeries data\n",
        "> NB Change date column into index.\n",
        "\n",
        "\n"
      ],
      "metadata": {
        "id": "RwaLk9yxJX4R"
      }
    },
    {
      "cell_type": "markdown",
      "source": [
        "# EDA"
      ],
      "metadata": {
        "id": "eMtJKd_CJlGq"
      }
    },
    {
      "cell_type": "markdown",
      "source": [
        "## Check for ACF and PACF"
      ],
      "metadata": {
        "id": "50gZy8OUKJOS"
      }
    },
    {
      "cell_type": "markdown",
      "source": [
        "# Model Building and Training\n",
        "Proposed models:\n",
        "*   Prophet\n",
        "*   Arma\n",
        "*   ARIMA\n",
        "*   SARIMA\n",
        "\n",
        "\n",
        "\n",
        "\n",
        "\n"
      ],
      "metadata": {
        "id": "zBFjxAiTKwQp"
      }
    },
    {
      "cell_type": "markdown",
      "source": [
        "# Model Evaluation\n",
        "\n",
        "Check for accuracy of models"
      ],
      "metadata": {
        "id": "G4cgx1uILJgX"
      }
    },
    {
      "cell_type": "markdown",
      "source": [
        "# Deploy Model"
      ],
      "metadata": {
        "id": "iA2K4fRhLSsK"
      }
    },
    {
      "cell_type": "markdown",
      "source": [
        "Ref: https://colab.research.google.com/drive/15PBqTZELcx73TdXUpsN7TVHOp-x6R7EU#scrollTo=j8-Bzga1LWOn"
      ],
      "metadata": {
        "id": "JxsZvQn1L1Zb"
      }
    }
  ]
}