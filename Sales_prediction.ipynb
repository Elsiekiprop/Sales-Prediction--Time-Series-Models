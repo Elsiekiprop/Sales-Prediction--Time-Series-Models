{
  "nbformat": 4,
  "nbformat_minor": 0,
  "metadata": {
    "colab": {
      "provenance": [],
      "include_colab_link": true
    },
    "kernelspec": {
      "name": "python3",
      "display_name": "Python 3"
    },
    "language_info": {
      "name": "python"
    }
  },
  "cells": [
    {
      "cell_type": "markdown",
      "metadata": {
        "id": "view-in-github",
        "colab_type": "text"
      },
      "source": [
        "<a href=\"https://colab.research.google.com/github/Elsiekiprop/Sales-Prediction--Time-Series-Models/blob/Elsie-K/Sales_prediction.ipynb\" target=\"_parent\"><img src=\"https://colab.research.google.com/assets/colab-badge.svg\" alt=\"Open In Colab\"/></a>"
      ]
    },
    {
      "cell_type": "markdown",
      "source": [
        "# Store Sales - Time Series Forecasting.\n",
        "## Overview\n",
        "This project aims to predict sales of various products at Favorita stores in Ecuador.\n",
        "## Business Understanding\n",
        "\n",
        "## Data Understanding.\n",
        "\n",
        "Seven data sets will be used in this project. The data sets are as follows:\n",
        "\n",
        "**Train.csv**\n",
        "This data set includes data on:\n",
        "- date: day the sale occured\n",
        "- id: the sales id\n",
        "- store_nbr: the store at which the sale occured\n",
        "- sales: total sales for a given product family at a given store at a given date.\n",
        "- onpromotion: total  number of items promoted at a given store at a given date.\n",
        "\n",
        "The  **test.csv** file contains data similar to the training data. The data contains sales information collected 15 days after the train data.\n",
        "\n",
        "\n",
        "**Oil.csv**\n",
        "\n",
        "This file contains details on oil prices since Ecuador's economy heavily depends on Oil\n",
        "\n",
        "\n",
        "**Stores.csv**\n",
        "\n",
        "This file includes information on store location:\n",
        "- city: the city a state is located\n",
        "- state: the state a city is located\n",
        "- cluster: a group of similar stores\n",
        "- type: the type of store\n",
        "\n",
        "\n"
      ],
      "metadata": {
        "id": "LLQpzFaoM8IC"
      }
    },
    {
      "cell_type": "markdown",
      "source": [],
      "metadata": {
        "id": "tJh-2osB6aLz"
      }
    },
    {
      "cell_type": "markdown",
      "source": [
        "# Importing necessary libraries.\n",
        "\n"
      ],
      "metadata": {
        "id": "4hbt_P-SQbck"
      }
    },
    {
      "cell_type": "code",
      "source": [
        "import pandas as pd\n",
        "import matplotlib.pyplot as plt\n",
        "%matplotlib inline\n",
        "import numpy as np\n",
        "import seaborn as sns"
      ],
      "metadata": {
        "id": "wCg1yM4_Ruop"
      },
      "execution_count": 1,
      "outputs": []
    },
    {
      "cell_type": "code",
      "source": [
        "from google.colab import drive\n",
        "drive.mount('/content/drive')"
      ],
      "metadata": {
        "id": "0R8zuDGN_pO5",
        "colab": {
          "base_uri": "https://localhost:8080/"
        },
        "outputId": "f2e27282-577c-4489-c0ea-dad6aa76f104"
      },
      "execution_count": 2,
      "outputs": [
        {
          "output_type": "stream",
          "name": "stdout",
          "text": [
            "Drive already mounted at /content/drive; to attempt to forcibly remount, call drive.mount(\"/content/drive\", force_remount=True).\n"
          ]
        }
      ]
    },
    {
      "cell_type": "markdown",
      "source": [
        "# Common Functions"
      ],
      "metadata": {
        "id": "cfar32KOIv-g"
      }
    },
    {
      "cell_type": "markdown",
      "source": [
        "# Data Access and Collection"
      ],
      "metadata": {
        "id": "GssG4fm0JHvK"
      }
    },
    {
      "cell_type": "code",
      "source": [
        "path_var = '/content/drive/MyDrive/store-sales-time-series-forecasting'"
      ],
      "metadata": {
        "id": "wRGTPxRHCunE"
      },
      "execution_count": 3,
      "outputs": []
    },
    {
      "cell_type": "code",
      "source": [
        "#Reading data\n",
        "train_df=pd.read_csv(path_var + \"/train.csv\")\n",
        "test_df=pd.read_csv(path_var + \"/test.csv\")\n",
        "oil_df=pd.read_csv(path_var + \"/oil.csv\")\n",
        "sample_submission_df=pd.read_csv(path_var + \"/sample_submission.csv\")\n",
        "stores_df=pd.read_csv(path_var + \"/stores.csv\")\n",
        "transactions_df=pd.read_csv(path_var + \"/transactions.csv\")\n",
        "holidays_events_df=pd.read_csv(path_var + \"/holidays_events.csv\")"
      ],
      "metadata": {
        "id": "HVtmvlVcUHEA"
      },
      "execution_count": 4,
      "outputs": []
    },
    {
      "cell_type": "markdown",
      "source": [
        "#### Merging the data sets"
      ],
      "metadata": {
        "id": "vECnXDY67t1n"
      }
    },
    {
      "cell_type": "code",
      "source": [
        "#Trying to merge data\n",
        "train_data=pd.merge(train_df,holidays_events_df,on='date',how='left')\n",
        "train_data=pd.merge(train_data,oil_df,on='date',how='left')\n",
        "train_data=pd.merge(train_data,stores_df,on='store_nbr',how='left')\n",
        "train_data.info()\n",
        "\n"
      ],
      "metadata": {
        "id": "PxrVb-Cv3EYz",
        "outputId": "d8294f2f-968f-49b0-fe86-bbf9d790084f",
        "colab": {
          "base_uri": "https://localhost:8080/"
        }
      },
      "execution_count": 5,
      "outputs": [
        {
          "output_type": "stream",
          "name": "stdout",
          "text": [
            "<class 'pandas.core.frame.DataFrame'>\n",
            "Int64Index: 3054348 entries, 0 to 3054347\n",
            "Data columns (total 16 columns):\n",
            " #   Column       Dtype  \n",
            "---  ------       -----  \n",
            " 0   id           int64  \n",
            " 1   date         object \n",
            " 2   store_nbr    int64  \n",
            " 3   family       object \n",
            " 4   sales        float64\n",
            " 5   onpromotion  int64  \n",
            " 6   type_x       object \n",
            " 7   locale       object \n",
            " 8   locale_name  object \n",
            " 9   description  object \n",
            " 10  transferred  object \n",
            " 11  dcoilwtico   float64\n",
            " 12  city         object \n",
            " 13  state        object \n",
            " 14  type_y       object \n",
            " 15  cluster      int64  \n",
            "dtypes: float64(2), int64(4), object(10)\n",
            "memory usage: 396.1+ MB\n"
          ]
        }
      ]
    },
    {
      "cell_type": "code",
      "source": [
        "train_data.isnull().sum()\n"
      ],
      "metadata": {
        "id": "C7n2mdid4qBC",
        "outputId": "c359c8dd-c4d3-4253-c1ac-cd568ecf08db",
        "colab": {
          "base_uri": "https://localhost:8080/"
        }
      },
      "execution_count": 6,
      "outputs": [
        {
          "output_type": "execute_result",
          "data": {
            "text/plain": [
              "id                   0\n",
              "date                 0\n",
              "store_nbr            0\n",
              "family               0\n",
              "sales                0\n",
              "onpromotion          0\n",
              "type_x         2551824\n",
              "locale         2551824\n",
              "locale_name    2551824\n",
              "description    2551824\n",
              "transferred    2551824\n",
              "dcoilwtico      955152\n",
              "city                 0\n",
              "state                0\n",
              "type_y               0\n",
              "cluster              0\n",
              "dtype: int64"
            ]
          },
          "metadata": {},
          "execution_count": 6
        }
      ]
    },
    {
      "cell_type": "code",
      "source": [
        "#Step to be discussed further\n",
        "df_train=train_data.dropna()\n",
        "df_train.info()"
      ],
      "metadata": {
        "id": "cKj-JbHj6tqE",
        "outputId": "de59538c-7a1d-4562-92c8-1be87ada4402",
        "colab": {
          "base_uri": "https://localhost:8080/"
        }
      },
      "execution_count": 10,
      "outputs": [
        {
          "output_type": "stream",
          "name": "stdout",
          "text": [
            "<class 'pandas.core.frame.DataFrame'>\n",
            "Int64Index: 322542 entries, 73062 to 3054347\n",
            "Data columns (total 16 columns):\n",
            " #   Column       Non-Null Count   Dtype  \n",
            "---  ------       --------------   -----  \n",
            " 0   id           322542 non-null  int64  \n",
            " 1   date         322542 non-null  object \n",
            " 2   store_nbr    322542 non-null  int64  \n",
            " 3   family       322542 non-null  object \n",
            " 4   sales        322542 non-null  float64\n",
            " 5   onpromotion  322542 non-null  int64  \n",
            " 6   type_x       322542 non-null  object \n",
            " 7   locale       322542 non-null  object \n",
            " 8   locale_name  322542 non-null  object \n",
            " 9   description  322542 non-null  object \n",
            " 10  transferred  322542 non-null  object \n",
            " 11  dcoilwtico   322542 non-null  float64\n",
            " 12  city         322542 non-null  object \n",
            " 13  state        322542 non-null  object \n",
            " 14  type_y       322542 non-null  object \n",
            " 15  cluster      322542 non-null  int64  \n",
            "dtypes: float64(2), int64(4), object(10)\n",
            "memory usage: 41.8+ MB\n"
          ]
        }
      ]
    },
    {
      "cell_type": "markdown",
      "source": [
        "# Data Cleaning\n",
        "\n",
        "\n",
        "*   Check on how to clean TimeSeries data\n",
        "*   Filling in values for TimeSeries data\n",
        "> NB Change date column into index.\n",
        "\n",
        "\n"
      ],
      "metadata": {
        "id": "RwaLk9yxJX4R"
      }
    },
    {
      "cell_type": "markdown",
      "source": [
        "### Cleaning the train data set\n",
        "#### Checking for unique features of the data (nature of data)"
      ],
      "metadata": {
        "id": "RPQo1Vptme2J"
      }
    },
    {
      "cell_type": "code",
      "source": [
        "#info\n",
        "#train_df.info()"
      ],
      "metadata": {
        "id": "BsSVgvQFnz1M"
      },
      "execution_count": null,
      "outputs": []
    },
    {
      "cell_type": "markdown",
      "source": [
        "The data has 3000888 rows and 5 variables.\n"
      ],
      "metadata": {
        "id": "FPP-rBsCpFpd"
      }
    },
    {
      "cell_type": "code",
      "source": [
        "#Checking for missing vales\n",
        "#train_df.isnull().sum()"
      ],
      "metadata": {
        "id": "PGf7ImOJpOru"
      },
      "execution_count": null,
      "outputs": []
    },
    {
      "cell_type": "markdown",
      "source": [
        "The data has no missing values.\n",
        "\n",
        "We can change the the date column to date time\n",
        "\n"
      ],
      "metadata": {
        "id": "N43hDlp9pggr"
      }
    },
    {
      "cell_type": "code",
      "source": [
        "#Changing data type of the date column\n",
        "#train_df['date']=pd.to_datetime(train_df['date'])\n",
        "#train_df.info()\n"
      ],
      "metadata": {
        "id": "5ML3D7zVu0ws"
      },
      "execution_count": null,
      "outputs": []
    },
    {
      "cell_type": "code",
      "source": [
        "#test_df.info()"
      ],
      "metadata": {
        "id": "NP724dSlxy9y"
      },
      "execution_count": null,
      "outputs": []
    },
    {
      "cell_type": "markdown",
      "source": [
        "# EDA"
      ],
      "metadata": {
        "id": "eMtJKd_CJlGq"
      }
    },
    {
      "cell_type": "code",
      "source": [],
      "metadata": {
        "id": "NG_8M3qzmcly"
      },
      "execution_count": null,
      "outputs": []
    },
    {
      "cell_type": "markdown",
      "source": [
        "## Check for ACF and PACF"
      ],
      "metadata": {
        "id": "50gZy8OUKJOS"
      }
    },
    {
      "cell_type": "markdown",
      "source": [
        "# Model Building and Training\n",
        "Proposed models:\n",
        "*   Prophet\n",
        "*   Arma\n",
        "*   ARIMA\n",
        "*   SARIMA\n",
        "\n",
        "\n",
        "\n",
        "\n",
        "\n"
      ],
      "metadata": {
        "id": "zBFjxAiTKwQp"
      }
    },
    {
      "cell_type": "markdown",
      "source": [
        "# Model Evaluation\n",
        "\n",
        "Check for accuracy of models"
      ],
      "metadata": {
        "id": "G4cgx1uILJgX"
      }
    },
    {
      "cell_type": "markdown",
      "source": [
        "# Deploy Model"
      ],
      "metadata": {
        "id": "iA2K4fRhLSsK"
      }
    },
    {
      "cell_type": "markdown",
      "source": [
        "Ref: https://colab.research.google.com/drive/15PBqTZELcx73TdXUpsN7TVHOp-x6R7EU#scrollTo=j8-Bzga1LWOn"
      ],
      "metadata": {
        "id": "JxsZvQn1L1Zb"
      }
    }
  ]
}