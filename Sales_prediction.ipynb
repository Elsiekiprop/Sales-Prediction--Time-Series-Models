{
  "nbformat": 4,
  "nbformat_minor": 0,
  "metadata": {
    "colab": {
      "provenance": [],
      "gpuType": "T4",
      "include_colab_link": true
    },
    "kernelspec": {
      "name": "python3",
      "display_name": "Python 3"
    },
    "language_info": {
      "name": "python"
    },
    "accelerator": "GPU"
  },
  "cells": [
    {
      "cell_type": "markdown",
      "metadata": {
        "id": "view-in-github",
        "colab_type": "text"
      },
      "source": [
        "<a href=\"https://colab.research.google.com/github/Elsiekiprop/Sales-Prediction--Time-Series-Models/blob/gikonyo/Sales_prediction.ipynb\" target=\"_parent\"><img src=\"https://colab.research.google.com/assets/colab-badge.svg\" alt=\"Open In Colab\"/></a>"
      ]
    },
    {
      "cell_type": "markdown",
      "source": [
        "# Store Sales - Time Series Forecasting.\n",
        "## Overview\n",
        "This project aims to predict sales of various products at Favorita stores in Ecuador.\n",
        "## Business Understanding\n",
        "\n",
        "## Data Understanding.\n",
        "\n",
        "Seven data sets will be used in this project. The data sets are as follows:\n",
        "\n",
        "**Train.csv**\n",
        "This data set includes data on:\n",
        "- date: day the sale occured\n",
        "- id: the sales id\n",
        "- store_nbr: the store at which the sale occured\n",
        "- sales: total sales for a given product family at a given store at a given date.\n",
        "- onpromotion: total  number of items promoted at a given store at a given date.\n",
        "\n",
        "The  **test.csv** file contains data similar to the training data. The data contains sales information collected 15 days after the train data.\n",
        "\n",
        "\n",
        "**Oil.csv**\n",
        "\n",
        "This file contains details on oil prices since Ecuador's economy heavily depends on Oil\n",
        "\n",
        "\n",
        "**Stores.csv**\n",
        "\n",
        "This file includes information on store location:\n",
        "- city: the city a state is located\n",
        "- state: the state a city is located\n",
        "- cluster: a group of similar stores\n",
        "- type: the type of store\n",
        "\n",
        "\n"
      ],
      "metadata": {
        "id": "LLQpzFaoM8IC"
      }
    },
    {
      "cell_type": "code",
      "source": [
        "!pip install dataprep\n",
        "!pip install seaborn"
      ],
      "metadata": {
        "id": "5mM7jbx_qxV3"
      },
      "execution_count": null,
      "outputs": []
    },
    {
      "cell_type": "markdown",
      "source": [
        "# Importing necessary libraries.\n",
        "\n"
      ],
      "metadata": {
        "id": "4hbt_P-SQbck"
      }
    },
    {
      "cell_type": "code",
      "source": [
        "import pandas as pd\n",
        "import matplotlib.pyplot as plt\n",
        "%matplotlib inline\n",
        "import numpy as np\n",
        "import seaborn as sns\n",
        "\n",
        "#imports for data analysis\n",
        "# import plotly.expess as px"
      ],
      "metadata": {
        "id": "wCg1yM4_Ruop"
      },
      "execution_count": 49,
      "outputs": []
    },
    {
      "cell_type": "code",
      "source": [
        "from google.colab import drive\n",
        "drive.mount('/content/drive')"
      ],
      "metadata": {
        "id": "0R8zuDGN_pO5",
        "colab": {
          "base_uri": "https://localhost:8080/"
        },
        "outputId": "a6205f4d-ed20-43b2-9158-4c8b7370278a"
      },
      "execution_count": 50,
      "outputs": [
        {
          "output_type": "stream",
          "name": "stdout",
          "text": [
            "Drive already mounted at /content/drive; to attempt to forcibly remount, call drive.mount(\"/content/drive\", force_remount=True).\n"
          ]
        }
      ]
    },
    {
      "cell_type": "markdown",
      "source": [
        "# Common Functions"
      ],
      "metadata": {
        "id": "cfar32KOIv-g"
      }
    },
    {
      "cell_type": "code",
      "source": [
        "def DropColumns(col_names, df):\n",
        "    # input: list of column names and a dataframe\n",
        "    # output: same dataframe with columns dropped\n",
        "    df = df.drop(col_names, axis=1)\n",
        "    return df\n",
        "\n",
        "def iqr_outliers(df,ft):\n",
        "  \"\"\"\n",
        "  input: dataframe and features\n",
        "  description: will remove outliers based on interquartile range\n",
        "  output: is a list of rows to be removed\n",
        "  \"\"\"\n",
        "  q1=df[ft].quantile(0.05)\n",
        "  q2=df[ft].quantile(0.95)\n",
        "  iqr = q2-q1\n",
        "  lower = q1 - 1.5 * iqr\n",
        "  upper = q2 + 1.5 * iqr\n",
        "  ls = df.index[ (df[ft]<lower) | (df[ft]>upper) ]\n",
        "  return ls\n",
        "\n",
        "def remove_(df,ls):\n",
        "  \"\"\"\n",
        "  input:dataframe, list of rows\n",
        "  description: will remove the rows\n",
        "  output: dataframe\n",
        "  \"\"\"\n",
        "  ls = sorted(set(ls))\n",
        "  df = df.drop(ls)\n",
        "  return df\n",
        "\n",
        "def fill_null(df, value = None):\n",
        "  \"\"\"\n",
        "    input: dataframe\n",
        "    description: the fxn will fill missing integer values with 0 and missing categorical values with the mode in their respective columns\n",
        "    output: dataframe with filled values\n",
        "  \"\"\"\n",
        "  if value != None :\n",
        "    for col in df:\n",
        "      if df[col].dtype in (\"int64\", \"float64\"):\n",
        "          df[col] = df[col].fillna(value)\n",
        "    print(\"Finished removing null values\")\n",
        "    return df\n",
        "\n",
        "  for col in df:\n",
        "    if df[col].dtype in (\"int64\", \"float64\"):\n",
        "      df[col] = df[col].fillna(df[col]).mean()\n",
        "    elif df[col].dtype == \"object\":\n",
        "      df[col] = df[col].fillna(df[col].mode()[0])\n",
        "  print(\"Finished removing null values\")\n",
        "  return df"
      ],
      "metadata": {
        "id": "pFFCwPkbj7tj"
      },
      "execution_count": 51,
      "outputs": []
    },
    {
      "cell_type": "markdown",
      "source": [
        "# Data Access and Collection"
      ],
      "metadata": {
        "id": "GssG4fm0JHvK"
      }
    },
    {
      "cell_type": "code",
      "source": [
        "path_var = '/content/drive/MyDrive/projects/Store-Sales-Forecast/store-sales-time-series-forecasting'"
      ],
      "metadata": {
        "id": "wRGTPxRHCunE"
      },
      "execution_count": 52,
      "outputs": []
    },
    {
      "cell_type": "code",
      "source": [
        "#Reading data\n",
        "train_df=pd.read_csv(path_var + \"/train.csv\")\n",
        "test_df=pd.read_csv(path_var + \"/test.csv\")\n",
        "oil_df=pd.read_csv(path_var + \"/oil.csv\")\n",
        "sample_submission_df=pd.read_csv(path_var + \"/sample_submission.csv\")\n",
        "stores_df=pd.read_csv(path_var + \"/stores.csv\")\n",
        "transactions_df=pd.read_csv(path_var + \"/transactions.csv\")\n",
        "holidays_events_df=pd.read_csv(path_var + \"/holidays_events.csv\")"
      ],
      "metadata": {
        "id": "HVtmvlVcUHEA"
      },
      "execution_count": 53,
      "outputs": []
    },
    {
      "cell_type": "markdown",
      "source": [
        "# Data Cleaning\n",
        "\n",
        "\n",
        "*   Check on how to clean TimeSeries data\n",
        "*   Filling in values for TimeSeries data\n",
        "> NB Change date column into index.\n",
        "\n",
        "\n"
      ],
      "metadata": {
        "id": "RwaLk9yxJX4R"
      }
    },
    {
      "cell_type": "markdown",
      "source": [
        "## Holidays Events"
      ],
      "metadata": {
        "id": "xlVgMI4NxbSZ"
      }
    },
    {
      "cell_type": "markdown",
      "source": [
        "## sample_submission data"
      ],
      "metadata": {
        "id": "fLJ33raexSuX"
      }
    },
    {
      "cell_type": "markdown",
      "source": [
        "## Stores Data"
      ],
      "metadata": {
        "id": "iIjbGzZMxDNX"
      }
    },
    {
      "cell_type": "markdown",
      "source": [
        "## Oil Data"
      ],
      "metadata": {
        "id": "tmU_tGhKw8b8"
      }
    },
    {
      "cell_type": "markdown",
      "source": [
        "## Test Data"
      ],
      "metadata": {
        "id": "N_OQ_nqPw47M"
      }
    },
    {
      "cell_type": "markdown",
      "source": [
        "## Train Data"
      ],
      "metadata": {
        "id": "AkVHlouPw0aM"
      }
    },
    {
      "cell_type": "code",
      "source": [
        "train_df.head()"
      ],
      "metadata": {
        "id": "tdjLXsYvnRr0"
      },
      "execution_count": null,
      "outputs": []
    },
    {
      "cell_type": "code",
      "source": [
        "len(train_df)"
      ],
      "metadata": {
        "id": "2GqHAv41pZFn"
      },
      "execution_count": null,
      "outputs": []
    },
    {
      "cell_type": "markdown",
      "source": [
        "So our data is Categorical!"
      ],
      "metadata": {
        "id": "v7Ieo1oMnelB"
      }
    },
    {
      "cell_type": "code",
      "source": [
        "# set date as the index\n",
        "train_df = train_df.set_index('date')"
      ],
      "metadata": {
        "id": "9c9K0BaCn3tI"
      },
      "execution_count": 56,
      "outputs": []
    },
    {
      "cell_type": "code",
      "source": [
        "#fill null values\n",
        "train_data = fill_null(train_df)"
      ],
      "metadata": {
        "id": "ntL9JWEmlxmg"
      },
      "execution_count": null,
      "outputs": []
    },
    {
      "cell_type": "code",
      "source": [
        "#change dataframe to lowercase\n",
        "train_data = train_data.applymap(lambda s: s.lower() if type(s) == str else s)"
      ],
      "metadata": {
        "id": "mrrCs4fMn1K0"
      },
      "execution_count": 58,
      "outputs": []
    },
    {
      "cell_type": "code",
      "source": [
        "train_data"
      ],
      "metadata": {
        "id": "L5_V6cJfoRoG"
      },
      "execution_count": null,
      "outputs": []
    },
    {
      "cell_type": "code",
      "source": [
        "len(train_data)"
      ],
      "metadata": {
        "id": "FiAs06Iipbh6"
      },
      "execution_count": null,
      "outputs": []
    },
    {
      "cell_type": "code",
      "source": [
        "# cleaning test data\n",
        "test_df.head()"
      ],
      "metadata": {
        "id": "iWuqF8wyt6Lm"
      },
      "execution_count": null,
      "outputs": []
    },
    {
      "cell_type": "code",
      "source": [
        "len(test_df)"
      ],
      "metadata": {
        "colab": {
          "base_uri": "https://localhost:8080/"
        },
        "id": "oujzzOlEuGBy",
        "outputId": "5562e31b-5c4f-4c58-c48a-8b788812fe95"
      },
      "execution_count": 63,
      "outputs": [
        {
          "output_type": "execute_result",
          "data": {
            "text/plain": [
              "28512"
            ]
          },
          "metadata": {},
          "execution_count": 63
        }
      ]
    },
    {
      "cell_type": "markdown",
      "source": [
        "# EDA"
      ],
      "metadata": {
        "id": "eMtJKd_CJlGq"
      }
    },
    {
      "cell_type": "code",
      "source": [
        "# using data prep to explore the dataset\n",
        "from dataprep.eda import create_report\n",
        "create_report(train_data).show()"
      ],
      "metadata": {
        "id": "C8ZY__0tl6hV"
      },
      "execution_count": null,
      "outputs": []
    },
    {
      "cell_type": "markdown",
      "source": [
        "## Check for ACF and PACF"
      ],
      "metadata": {
        "id": "50gZy8OUKJOS"
      }
    },
    {
      "cell_type": "markdown",
      "source": [
        "# Model Building and Training\n",
        "Proposed models:\n",
        "*   Prophet\n",
        "*   Arma\n",
        "*   ARIMA\n",
        "*   SARIMA\n",
        "\n",
        "\n",
        "\n",
        "\n",
        "\n"
      ],
      "metadata": {
        "id": "zBFjxAiTKwQp"
      }
    },
    {
      "cell_type": "markdown",
      "source": [
        "# Model Evaluation\n",
        "\n",
        "Check for accuracy of models"
      ],
      "metadata": {
        "id": "G4cgx1uILJgX"
      }
    },
    {
      "cell_type": "markdown",
      "source": [
        "# Deploy Model"
      ],
      "metadata": {
        "id": "iA2K4fRhLSsK"
      }
    },
    {
      "cell_type": "markdown",
      "source": [
        "Ref: https://colab.research.google.com/drive/15PBqTZELcx73TdXUpsN7TVHOp-x6R7EU#scrollTo=j8-Bzga1LWOn"
      ],
      "metadata": {
        "id": "JxsZvQn1L1Zb"
      }
    }
  ]
}